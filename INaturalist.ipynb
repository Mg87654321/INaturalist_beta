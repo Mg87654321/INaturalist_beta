{
  "nbformat": 4,
  "nbformat_minor": 0,
  "metadata": {
    "colab": {
      "provenance": []
    },
    "kernelspec": {
      "name": "python3",
      "display_name": "Python 3"
    },
    "language_info": {
      "name": "python"
    }
  },
  "cells": [
    {
      "cell_type": "code",
      "execution_count": null,
      "metadata": {
        "id": "mLibFGHJw0Tz"
      },
      "outputs": [],
      "source": []
    },
    {
      "cell_type": "markdown",
      "source": [
        "###This the notebook for the computer vision of the app I naturalist and how we can implemeant it to make it more effecient. ###\n",
        "\n",
        "First things first ist what is INaturalist and what is the issue ?\n",
        "- iNaturalist is a non-profit project that focuses on citizen science and biodiversity research, it does not follow a traditional monetization model like commercial apps.\n",
        "- It's an app where you appload yours picture and let the AI try to identify what you found.\n",
        "\n",
        "=> This platform is used to identify plants/animals/fungi quickly in nature using photos. It helps contribute to citizen science by documenting the database on the biodiversity. It is used through ballad, hikes or trips, to quickly scan a species and learn more about it, which make it more interesting to go outside and connect with a nature loving community.\n"
      ],
      "metadata": {
        "id": "kWLydOaow3xU"
      }
    },
    {
      "cell_type": "markdown",
      "source": [
        "# 🐦 iNat2021 Bird Species Classification\n",
        "\n",
        "This notebook implements a computer vision pipeline to classify bird species from the iNat2021 dataset. We use transfer learning with a pre-trained ResNet-18 model and evaluate classification accuracy.\n"
      ],
      "metadata": {
        "id": "noGa_leFACQ1"
      }
    },
    {
      "cell_type": "markdown",
      "source": [
        "## 📌 How It Works\n",
        "\n",
        "This project follows a typical computer vision workflow for image classification:\n",
        "\n",
        "1. **Dataset Preparation**:\n",
        "   - A subset of the iNat2021 dataset is used.\n",
        "   - Images are organized into folders named after bird species (classes).\n",
        "   - Data is split into `train/` and `val/` directories.\n",
        "\n",
        "2. **Transformations**:\n",
        "   - All images are resized to 224x224 (the input size expected by ResNet).\n",
        "   - They are normalized using the standard ImageNet mean and standard deviation.\n",
        "\n",
        "3. **Model Selection (Transfer Learning)**:\n",
        "   - We use a ResNet-18 pre-trained on ImageNet.\n",
        "   - The last fully connected layer is replaced with a new one that matches the number of bird classes.\n",
        "\n",
        "4. **Training**:\n",
        "   - The model learns to map input images to the correct bird species.\n",
        "   - It uses cross-entropy loss and the Adam optimizer.\n",
        "   - We train for a few epochs to demonstrate the process.\n",
        "\n",
        "5. **Evaluation**:\n",
        "   - On the validation set, we calculate accuracy and a full classification report.\n",
        "   - Results show how well the model can recognize new bird images.\n",
        "\n",
        "This pipeline can be expanded with additional features like data augmentation, deeper models (e.g., ResNet-50), or fine-tuning strategies for better performance.\n"
      ],
      "metadata": {
        "id": "oI9Pij1yB9Un"
      }
    },
    {
      "cell_type": "markdown",
      "source": [],
      "metadata": {
        "id": "BEhQNLa9B9PF"
      }
    },
    {
      "cell_type": "markdown",
      "source": [
        "\n",
        "## 📁 Dataset\n",
        "We use a sample of the [iNat2021 bird dataset](https://www.kaggle.com/datasets/sharansmenon/inat2021birds). The dataset consists of categorized images of bird species, organized in subdirectories named after class labels.\n"
      ],
      "metadata": {
        "id": "rB8QsWiEAPFf"
      }
    },
    {
      "cell_type": "markdown",
      "source": [
        "The necessery library for the code to work well\n",
        "\n",
        "(don't forget to lunch each step)\n"
      ],
      "metadata": {
        "id": "qi87eFCnAJLL"
      }
    },
    {
      "cell_type": "code",
      "source": [
        "import os\n",
        "import pandas as pd\n",
        "import numpy as np\n",
        "import matplotlib.pyplot as plt\n",
        "import seaborn as sns\n",
        "from sklearn.model_selection import train_test_split\n",
        "from sklearn.metrics import accuracy_score, confusion_matrix, classification_report\n",
        "\n",
        "import torch\n",
        "import torchvision\n",
        "from torchvision import transforms, datasets, models\n",
        "from torch.utils.data import DataLoader, Dataset\n",
        "from torch import nn, optim\n",
        "from PIL import Image"
      ],
      "metadata": {
        "id": "EA37kmk5yRnd"
      },
      "execution_count": null,
      "outputs": []
    },
    {
      "cell_type": "code",
      "source": [
        "# Set device\n",
        "device = torch.device(\"cuda\" if torch.cuda.is_available() else \"cpu\")\n",
        "print(f\"Using device: {device}\")"
      ],
      "metadata": {
        "colab": {
          "base_uri": "https://localhost:8080/"
        },
        "id": "gjWz6pHJAdfl",
        "outputId": "b6db3e82-1710-4986-fe96-bcfd4e9d43a5"
      },
      "execution_count": null,
      "outputs": [
        {
          "output_type": "stream",
          "name": "stdout",
          "text": [
            "Using device: cpu\n"
          ]
        }
      ]
    },
    {
      "cell_type": "code",
      "source": [
        "# Hyperparameters\n",
        "BATCH_SIZE = 32\n",
        "NUM_EPOCHS = 5\n",
        "LEARNING_RATE = 0.001"
      ],
      "metadata": {
        "id": "Zn5_WMlSAoOh"
      },
      "execution_count": null,
      "outputs": []
    },
    {
      "cell_type": "markdown",
      "source": [
        "## 🔄 Data Preprocessing\n",
        "We apply image transformations for normalization and resizing."
      ],
      "metadata": {
        "id": "Gd4zo0a4yjrg"
      }
    },
    {
      "cell_type": "code",
      "source": [
        "# Data directories\n",
        "DATA_DIR = \"./inat2021_birds_sample/\"\n",
        "TRAIN_DIR = os.path.join(DATA_DIR, \"train\")\n",
        "VAL_DIR = os.path.join(DATA_DIR, \"val\")\n",
        "\n",
        "# Data transforms\n",
        "transform = transforms.Compose([\n",
        "    transforms.Resize((224, 224)),\n",
        "    transforms.ToTensor(),\n",
        "    transforms.Normalize(mean=[0.485, 0.456, 0.406],\n",
        "                         std=[0.229, 0.224, 0.225])\n",
        "])\n",
        "\n",
        "# Load datasets\n",
        "train_data = datasets.ImageFolder(TRAIN_DIR, transform=transform)\n",
        "val_data = datasets.ImageFolder(VAL_DIR, transform=transform)\n",
        "\n",
        "train_loader = DataLoader(train_data, batch_size=BATCH_SIZE, shuffle=True)\n",
        "val_loader = DataLoader(val_data, batch_size=BATCH_SIZE, shuffle=False)\n",
        "\n",
        "print(f\"Number of training classes: {len(train_data.classes)}\")"
      ],
      "metadata": {
        "id": "HVMwIr-jyk8n"
      },
      "execution_count": null,
      "outputs": []
    },
    {
      "cell_type": "markdown",
      "source": [
        "\n",
        "## 🧠 Model Architecture\n",
        "We fine-tune a ResNet-18 model by replacing its output layer to match the number of bird classes.\n"
      ],
      "metadata": {
        "id": "ZxkspeJuA0gs"
      }
    },
    {
      "cell_type": "code",
      "source": [
        "# Load pre-trained model\n",
        "model = models.resnet18(pretrained=True)\n",
        "num_ftrs = model.fc.in_features\n",
        "model.fc = nn.Linear(num_ftrs, len(train_data.classes))\n",
        "model = model.to(device)"
      ],
      "metadata": {
        "id": "sfh5eDRSA35I"
      },
      "execution_count": null,
      "outputs": []
    },
    {
      "cell_type": "code",
      "source": [
        "# Loss and optimizer\n",
        "criterion = nn.CrossEntropyLoss()\n",
        "optimizer = optim.Adam(model.parameters(), lr=LEARNING_RATE)"
      ],
      "metadata": {
        "id": "jXDXRFdfA99e"
      },
      "execution_count": null,
      "outputs": []
    },
    {
      "cell_type": "markdown",
      "source": [
        "## Training\n",
        "We train the model using the cross-entropy loss and Adam optimizer."
      ],
      "metadata": {
        "id": "uwXzlHVABE87"
      }
    },
    {
      "cell_type": "code",
      "source": [
        "# Training loop\n",
        "def train_model():\n",
        "    model.train()\n",
        "    for epoch in range(NUM_EPOCHS):\n",
        "        running_loss = 0.0\n",
        "        for images, labels in train_loader:\n",
        "            images, labels = images.to(device), labels.to(device)\n",
        "\n",
        "            optimizer.zero_grad()\n",
        "            outputs = model(images)\n",
        "            loss = criterion(outputs, labels)\n",
        "            loss.backward()\n",
        "            optimizer.step()\n",
        "\n",
        "            running_loss += loss.item()\n",
        "\n",
        "        print(f\"Epoch [{epoch+1}/{NUM_EPOCHS}], Loss: {running_loss/len(train_loader):.4f}\")"
      ],
      "metadata": {
        "id": "c-FvjCW5BBQG"
      },
      "execution_count": null,
      "outputs": []
    },
    {
      "cell_type": "markdown",
      "source": [
        "## Evaluation\n",
        "We calculate the validation accuracy and display a classification report."
      ],
      "metadata": {
        "id": "XPiLQuKpBMSL"
      }
    },
    {
      "cell_type": "code",
      "source": [
        "# Evaluation\n",
        "@torch.no_grad()\n",
        "def evaluate_model():\n",
        "    model.eval()\n",
        "    all_preds = []\n",
        "    all_labels = []\n",
        "    for images, labels in val_loader:\n",
        "        images, labels = images.to(device), labels.to(device)\n",
        "        outputs = model(images)\n",
        "        _, preds = torch.max(outputs, 1)\n",
        "        all_preds.extend(preds.cpu().numpy())\n",
        "        all_labels.extend(labels.cpu().numpy())\n",
        "\n",
        "    acc = accuracy_score(all_labels, all_preds)\n",
        "    print(f\"Validation Accuracy: {acc*100:.2f}%\")\n",
        "    print(\"Classification Report:\")\n",
        "    print(classification_report(all_labels, all_preds, target_names=val_data.classes))"
      ],
      "metadata": {
        "id": "oD9LfDt-BN4i"
      },
      "execution_count": null,
      "outputs": []
    },
    {
      "cell_type": "code",
      "source": [
        "# Run training and evaluation\n",
        "train_model()\n",
        "evaluate_model()"
      ],
      "metadata": {
        "id": "BneGNc6HBY8G"
      },
      "execution_count": null,
      "outputs": []
    },
    {
      "cell_type": "markdown",
      "source": [
        "So the steps are:\n",
        "- Upload pictures and resizes them to 224x224, and normalizes them so they match the input format expected by the ResNet-18 model.\n",
        "- Each batch of images goes through this process:\n",
        "\n",
        "      - Pass image batch to model\n",
        "      - Model predicts bird species\n",
        "      - Compare predictions with true labels\n",
        "      - Adjust weights using backpropagation\n",
        "\n",
        "Example of the output:\n",
        "\n",
        "-\n",
        "![image.png](data:image/png;base64,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)\n",
        "\n"
      ],
      "metadata": {
        "id": "uE5r9kh9L6Gl"
      }
    },
    {
      "cell_type": "markdown",
      "source": [
        "Repository for the block 2 BDD data-driven platform project APA References list:\n",
        "- Hugging Face. (n.d.). Hugging Face. Retrieved April 29, 2025, from https://huggingface.co/\n",
        "- Dosovitskiy, A., Beyer, L., Kolesnikov, A., Weissenborn, D., Zhai, X., Unterthiner & Houlsby, N. (2020). An image is worth 16x16 words: Transformers for image recognition at scale.\n",
        "-Bradski, G. (2000). The OpenCV library. Dr. Dobb's Journal of Software Tools.\n",
        "- Paszke, A. (2019). PyTorch: An imperative style, high-performance deep learning library. In Advances in Neural Information Processing Systems (Vol. 32)."
      ],
      "metadata": {
        "id": "GRVcd6q_hD6C"
      }
    }
  ]
}